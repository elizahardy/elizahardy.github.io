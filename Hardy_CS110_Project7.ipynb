{
  "nbformat": 4,
  "nbformat_minor": 0,
  "metadata": {
    "colab": {
      "provenance": []
    },
    "kernelspec": {
      "name": "python3",
      "display_name": "Python 3"
    },
    "language_info": {
      "name": "python"
    }
  },
  "cells": [
    {
      "cell_type": "markdown",
      "source": [
        "# **NOTE:** Use File > Save a copy in Drive to make a copy before doing anything else"
      ],
      "metadata": {
        "id": "4JeSTdT1pkf-"
      }
    },
    {
      "cell_type": "markdown",
      "source": [
        "# Project 7: Data Exploration and Visualization"
      ],
      "metadata": {
        "id": "FsyyPJK3pspP"
      }
    },
    {
      "cell_type": "markdown",
      "source": [
        "### Overview\n",
        "\n",
        "In this project, you will apply data exploration and visualization techniques to a real-world dataset of your choice. You'll practice using pandas for data analysis and create meaningful visualizations to gain insights from your data. This project builds on your Python programming skills while introducing you to the exciting world of data science.\n",
        "\n",
        "In [Lab7](https://colab.research.google.com/drive/15QvSh0csZaCU-OuuPIfpWx5wLDDjmqK4?usp=sharing), you explore the titanic dataset and you should use it as a sample and pick a dataset of your interest to do a similar data exploration and visualization."
      ],
      "metadata": {
        "id": "XaKjQPf0p04F"
      }
    },
    {
      "cell_type": "markdown",
      "source": [
        "### Project Objectives\n",
        "\n",
        "*   Find and select a dataset from a real-world data source\n",
        "*   Formulate a clear inquiry question based on your chosen dataset\n",
        "\n",
        "\n",
        "*   Perform exploratory data analysis using pandas functions\n",
        "*   Create at least two meaningful data visualizations\n",
        "\n",
        "\n",
        "*   Analyze your findings and answer your inquiry question\n",
        "*   Reflect on the insights gained through data exploration\n"
      ],
      "metadata": {
        "id": "rUc-js6Bpl3R"
      }
    },
    {
      "cell_type": "markdown",
      "source": [
        "### Data Sources\n",
        "You can choose from various online data sources such as:\n",
        "\n",
        "* [Kaggle](https://www.kaggle.com/datasets) - Wide variety of datasets\n",
        "* [data.gov](https://www.data.gov/) - U.S. government data\n",
        "* [Our World in Data](https://ourworldindata.org/) - Global development data\n",
        "* [GitHub](https://github.com/datasets) - Curated datasets\n",
        "* [Google Dataset Search](https://datasetsearch.research.google.com/) - Search for datasets\n",
        "* Or any other reliable data source you find interesting"
      ],
      "metadata": {
        "id": "HHdDmt7LsInH"
      }
    },
    {
      "cell_type": "markdown",
      "source": [
        "## Part 1: Dataset Selection and Initial Exploration\n",
        "\n"
      ],
      "metadata": {
        "id": "U0bTaSGqsuD3"
      }
    },
    {
      "cell_type": "markdown",
      "source": [
        "#### TODO Tasks:"
      ],
      "metadata": {
        "id": "b51Zax58tbRj"
      }
    },
    {
      "cell_type": "markdown",
      "source": [
        "1. Select Your Dataset: Choose a dataset that interests you. Make sure it has at least 100 rows and multiple columns with different data types (e.g., numerical, categorical, dates).\n",
        "\n",
        "Please create either text or code cells in between the TODO tasks to do the work."
      ],
      "metadata": {
        "id": "ZBCbqzJjtZXz"
      }
    },
    {
      "cell_type": "markdown",
      "source": [
        "2. Import Libraries: Import the necessary libraries (pandas, matplotlib, seaborn) at the beginning of your notebook by creating code cells below this text cell."
      ],
      "metadata": {
        "id": "zayF0dhNtg5x"
      }
    },
    {
      "cell_type": "code",
      "source": [
        "!pip install pandas==2.2.2\n",
        "!pip install seaborn==0.13.2\n",
        "!pip install matplotlib==3.8.0"
      ],
      "metadata": {
        "colab": {
          "base_uri": "https://localhost:8080/"
        },
        "id": "YS5whh74xkAb",
        "outputId": "0663315e-7056-41a0-d44f-15d5c2694d9e"
      },
      "execution_count": 85,
      "outputs": [
        {
          "output_type": "stream",
          "name": "stdout",
          "text": [
            "Requirement already satisfied: pandas==2.2.2 in /usr/local/lib/python3.11/dist-packages (2.2.2)\n",
            "Requirement already satisfied: numpy>=1.23.2 in /usr/local/lib/python3.11/dist-packages (from pandas==2.2.2) (1.26.0)\n",
            "Requirement already satisfied: python-dateutil>=2.8.2 in /usr/local/lib/python3.11/dist-packages (from pandas==2.2.2) (2.9.0.post0)\n",
            "Requirement already satisfied: pytz>=2020.1 in /usr/local/lib/python3.11/dist-packages (from pandas==2.2.2) (2025.2)\n",
            "Requirement already satisfied: tzdata>=2022.7 in /usr/local/lib/python3.11/dist-packages (from pandas==2.2.2) (2025.2)\n",
            "Requirement already satisfied: six>=1.5 in /usr/local/lib/python3.11/dist-packages (from python-dateutil>=2.8.2->pandas==2.2.2) (1.17.0)\n",
            "Requirement already satisfied: seaborn==0.13.2 in /usr/local/lib/python3.11/dist-packages (0.13.2)\n",
            "Requirement already satisfied: numpy!=1.24.0,>=1.20 in /usr/local/lib/python3.11/dist-packages (from seaborn==0.13.2) (1.26.0)\n",
            "Requirement already satisfied: pandas>=1.2 in /usr/local/lib/python3.11/dist-packages (from seaborn==0.13.2) (2.2.2)\n",
            "Requirement already satisfied: matplotlib!=3.6.1,>=3.4 in /usr/local/lib/python3.11/dist-packages (from seaborn==0.13.2) (3.8.0)\n",
            "Requirement already satisfied: contourpy>=1.0.1 in /usr/local/lib/python3.11/dist-packages (from matplotlib!=3.6.1,>=3.4->seaborn==0.13.2) (1.3.2)\n",
            "Requirement already satisfied: cycler>=0.10 in /usr/local/lib/python3.11/dist-packages (from matplotlib!=3.6.1,>=3.4->seaborn==0.13.2) (0.12.1)\n",
            "Requirement already satisfied: fonttools>=4.22.0 in /usr/local/lib/python3.11/dist-packages (from matplotlib!=3.6.1,>=3.4->seaborn==0.13.2) (4.58.0)\n",
            "Requirement already satisfied: kiwisolver>=1.0.1 in /usr/local/lib/python3.11/dist-packages (from matplotlib!=3.6.1,>=3.4->seaborn==0.13.2) (1.4.8)\n",
            "Requirement already satisfied: packaging>=20.0 in /usr/local/lib/python3.11/dist-packages (from matplotlib!=3.6.1,>=3.4->seaborn==0.13.2) (24.2)\n",
            "Requirement already satisfied: pillow>=6.2.0 in /usr/local/lib/python3.11/dist-packages (from matplotlib!=3.6.1,>=3.4->seaborn==0.13.2) (11.2.1)\n",
            "Requirement already satisfied: pyparsing>=2.3.1 in /usr/local/lib/python3.11/dist-packages (from matplotlib!=3.6.1,>=3.4->seaborn==0.13.2) (3.2.3)\n",
            "Requirement already satisfied: python-dateutil>=2.7 in /usr/local/lib/python3.11/dist-packages (from matplotlib!=3.6.1,>=3.4->seaborn==0.13.2) (2.9.0.post0)\n",
            "Requirement already satisfied: pytz>=2020.1 in /usr/local/lib/python3.11/dist-packages (from pandas>=1.2->seaborn==0.13.2) (2025.2)\n",
            "Requirement already satisfied: tzdata>=2022.7 in /usr/local/lib/python3.11/dist-packages (from pandas>=1.2->seaborn==0.13.2) (2025.2)\n",
            "Requirement already satisfied: six>=1.5 in /usr/local/lib/python3.11/dist-packages (from python-dateutil>=2.7->matplotlib!=3.6.1,>=3.4->seaborn==0.13.2) (1.17.0)\n",
            "Requirement already satisfied: matplotlib==3.8.0 in /usr/local/lib/python3.11/dist-packages (3.8.0)\n",
            "Requirement already satisfied: contourpy>=1.0.1 in /usr/local/lib/python3.11/dist-packages (from matplotlib==3.8.0) (1.3.2)\n",
            "Requirement already satisfied: cycler>=0.10 in /usr/local/lib/python3.11/dist-packages (from matplotlib==3.8.0) (0.12.1)\n",
            "Requirement already satisfied: fonttools>=4.22.0 in /usr/local/lib/python3.11/dist-packages (from matplotlib==3.8.0) (4.58.0)\n",
            "Requirement already satisfied: kiwisolver>=1.0.1 in /usr/local/lib/python3.11/dist-packages (from matplotlib==3.8.0) (1.4.8)\n",
            "Requirement already satisfied: numpy<2,>=1.21 in /usr/local/lib/python3.11/dist-packages (from matplotlib==3.8.0) (1.26.0)\n",
            "Requirement already satisfied: packaging>=20.0 in /usr/local/lib/python3.11/dist-packages (from matplotlib==3.8.0) (24.2)\n",
            "Requirement already satisfied: pillow>=6.2.0 in /usr/local/lib/python3.11/dist-packages (from matplotlib==3.8.0) (11.2.1)\n",
            "Requirement already satisfied: pyparsing>=2.3.1 in /usr/local/lib/python3.11/dist-packages (from matplotlib==3.8.0) (3.2.3)\n",
            "Requirement already satisfied: python-dateutil>=2.7 in /usr/local/lib/python3.11/dist-packages (from matplotlib==3.8.0) (2.9.0.post0)\n",
            "Requirement already satisfied: six>=1.5 in /usr/local/lib/python3.11/dist-packages (from python-dateutil>=2.7->matplotlib==3.8.0) (1.17.0)\n"
          ]
        }
      ]
    },
    {
      "cell_type": "markdown",
      "source": [
        "3. Load Your Data: Load your chosen dataset using pandas and save it to a pandas dataframe. Please create a code cell below this text cell to do it."
      ],
      "metadata": {
        "id": "jVfaTxqXt3VS"
      }
    },
    {
      "cell_type": "code",
      "source": [
        "# @title Load the data\n",
        "import pandas as pd\n",
        "\n",
        "URL = \"https://raw.githubusercontent.com/elizahardy/elizahardy.github.io/refs/heads/main/International_Education_Costs.csv\"\n",
        "df = pd.read_csv(URL)"
      ],
      "metadata": {
        "id": "QvqMQm2wxqsa"
      },
      "execution_count": 86,
      "outputs": []
    },
    {
      "cell_type": "markdown",
      "source": [
        "4. Data Summary: Use the following functions to do inital exploration your dataset:\n",
        "\n",
        "* info() - Display information about the dataset structure\n",
        "* describe() - Show statistical summary of numerical columns\n",
        "* head() - Display the first 5 rows (df.head())\n",
        "* shape - Show the dimensions of the dataset (e.g. df.shape)\n",
        "* columns - Get the column names (e.g. df.columns)\n",
        "\n",
        "You may use 5 code cells below this text cell to accomplish it."
      ],
      "metadata": {
        "id": "GbS4Cwh6t_Wy"
      }
    },
    {
      "cell_type": "code",
      "source": [
        "# Info\n",
        "\n",
        "df.info()"
      ],
      "metadata": {
        "colab": {
          "base_uri": "https://localhost:8080/"
        },
        "id": "16U16fTy08M_",
        "outputId": "459eb5c0-5963-4657-d2c0-fea27d85b706"
      },
      "execution_count": 87,
      "outputs": [
        {
          "output_type": "stream",
          "name": "stdout",
          "text": [
            "<class 'pandas.core.frame.DataFrame'>\n",
            "RangeIndex: 907 entries, 0 to 906\n",
            "Data columns (total 12 columns):\n",
            " #   Column             Non-Null Count  Dtype  \n",
            "---  ------             --------------  -----  \n",
            " 0   Country            907 non-null    object \n",
            " 1   City               907 non-null    object \n",
            " 2   University         907 non-null    object \n",
            " 3   Program            907 non-null    object \n",
            " 4   Level              907 non-null    object \n",
            " 5   Duration_Years     907 non-null    float64\n",
            " 6   Tuition_USD        907 non-null    int64  \n",
            " 7   Living_Cost_Index  907 non-null    float64\n",
            " 8   Rent_USD           907 non-null    int64  \n",
            " 9   Visa_Fee_USD       907 non-null    int64  \n",
            " 10  Insurance_USD      907 non-null    int64  \n",
            " 11  Exchange_Rate      907 non-null    float64\n",
            "dtypes: float64(3), int64(4), object(5)\n",
            "memory usage: 85.2+ KB\n"
          ]
        }
      ]
    },
    {
      "cell_type": "code",
      "source": [
        "# Describe\n",
        "\n",
        "df.describe(include='all')"
      ],
      "metadata": {
        "colab": {
          "base_uri": "https://localhost:8080/",
          "height": 449
        },
        "id": "xAdM-aoH079n",
        "outputId": "40853311-1255-43e7-b241-a6d996372f4e"
      },
      "execution_count": 88,
      "outputs": [
        {
          "output_type": "execute_result",
          "data": {
            "text/plain": [
              "       Country       City                University           Program   Level  \\\n",
              "count      907        907                       907               907     907   \n",
              "unique      71        556                       622                92       3   \n",
              "top         UK  Singapore  University of Washington  Computer Science  Master   \n",
              "freq        93         18                         6               312     451   \n",
              "mean       NaN        NaN                       NaN               NaN     NaN   \n",
              "std        NaN        NaN                       NaN               NaN     NaN   \n",
              "min        NaN        NaN                       NaN               NaN     NaN   \n",
              "25%        NaN        NaN                       NaN               NaN     NaN   \n",
              "50%        NaN        NaN                       NaN               NaN     NaN   \n",
              "75%        NaN        NaN                       NaN               NaN     NaN   \n",
              "max        NaN        NaN                       NaN               NaN     NaN   \n",
              "\n",
              "        Duration_Years   Tuition_USD  Living_Cost_Index     Rent_USD  \\\n",
              "count       907.000000    907.000000         907.000000   907.000000   \n",
              "unique             NaN           NaN                NaN          NaN   \n",
              "top                NaN           NaN                NaN          NaN   \n",
              "freq               NaN           NaN                NaN          NaN   \n",
              "mean          2.836825  16705.016538          64.437486   969.206174   \n",
              "std           0.945449  16582.385275          14.056333   517.154752   \n",
              "min           1.000000      0.000000          27.800000   150.000000   \n",
              "25%           2.000000   2850.000000          56.300000   545.000000   \n",
              "50%           3.000000   7500.000000          67.500000   900.000000   \n",
              "75%           4.000000  31100.000000          72.200000  1300.000000   \n",
              "max           5.000000  62000.000000         122.400000  2500.000000   \n",
              "\n",
              "        Visa_Fee_USD  Insurance_USD  Exchange_Rate  \n",
              "count     907.000000     907.000000     907.000000  \n",
              "unique           NaN            NaN            NaN  \n",
              "top              NaN            NaN            NaN  \n",
              "freq             NaN            NaN            NaN  \n",
              "mean      211.396913     700.077178     623.000695  \n",
              "std       143.435740     320.374875    3801.746134  \n",
              "min        40.000000     200.000000       0.150000  \n",
              "25%       100.000000     450.000000       0.920000  \n",
              "50%       160.000000     650.000000       1.350000  \n",
              "75%       240.000000     800.000000       7.150000  \n",
              "max       490.000000    1500.000000   42150.000000  "
            ],
            "text/html": [
              "\n",
              "  <div id=\"df-e3fd50a4-500c-46eb-8d0f-8040aa81b769\" class=\"colab-df-container\">\n",
              "    <div>\n",
              "<style scoped>\n",
              "    .dataframe tbody tr th:only-of-type {\n",
              "        vertical-align: middle;\n",
              "    }\n",
              "\n",
              "    .dataframe tbody tr th {\n",
              "        vertical-align: top;\n",
              "    }\n",
              "\n",
              "    .dataframe thead th {\n",
              "        text-align: right;\n",
              "    }\n",
              "</style>\n",
              "<table border=\"1\" class=\"dataframe\">\n",
              "  <thead>\n",
              "    <tr style=\"text-align: right;\">\n",
              "      <th></th>\n",
              "      <th>Country</th>\n",
              "      <th>City</th>\n",
              "      <th>University</th>\n",
              "      <th>Program</th>\n",
              "      <th>Level</th>\n",
              "      <th>Duration_Years</th>\n",
              "      <th>Tuition_USD</th>\n",
              "      <th>Living_Cost_Index</th>\n",
              "      <th>Rent_USD</th>\n",
              "      <th>Visa_Fee_USD</th>\n",
              "      <th>Insurance_USD</th>\n",
              "      <th>Exchange_Rate</th>\n",
              "    </tr>\n",
              "  </thead>\n",
              "  <tbody>\n",
              "    <tr>\n",
              "      <th>count</th>\n",
              "      <td>907</td>\n",
              "      <td>907</td>\n",
              "      <td>907</td>\n",
              "      <td>907</td>\n",
              "      <td>907</td>\n",
              "      <td>907.000000</td>\n",
              "      <td>907.000000</td>\n",
              "      <td>907.000000</td>\n",
              "      <td>907.000000</td>\n",
              "      <td>907.000000</td>\n",
              "      <td>907.000000</td>\n",
              "      <td>907.000000</td>\n",
              "    </tr>\n",
              "    <tr>\n",
              "      <th>unique</th>\n",
              "      <td>71</td>\n",
              "      <td>556</td>\n",
              "      <td>622</td>\n",
              "      <td>92</td>\n",
              "      <td>3</td>\n",
              "      <td>NaN</td>\n",
              "      <td>NaN</td>\n",
              "      <td>NaN</td>\n",
              "      <td>NaN</td>\n",
              "      <td>NaN</td>\n",
              "      <td>NaN</td>\n",
              "      <td>NaN</td>\n",
              "    </tr>\n",
              "    <tr>\n",
              "      <th>top</th>\n",
              "      <td>UK</td>\n",
              "      <td>Singapore</td>\n",
              "      <td>University of Washington</td>\n",
              "      <td>Computer Science</td>\n",
              "      <td>Master</td>\n",
              "      <td>NaN</td>\n",
              "      <td>NaN</td>\n",
              "      <td>NaN</td>\n",
              "      <td>NaN</td>\n",
              "      <td>NaN</td>\n",
              "      <td>NaN</td>\n",
              "      <td>NaN</td>\n",
              "    </tr>\n",
              "    <tr>\n",
              "      <th>freq</th>\n",
              "      <td>93</td>\n",
              "      <td>18</td>\n",
              "      <td>6</td>\n",
              "      <td>312</td>\n",
              "      <td>451</td>\n",
              "      <td>NaN</td>\n",
              "      <td>NaN</td>\n",
              "      <td>NaN</td>\n",
              "      <td>NaN</td>\n",
              "      <td>NaN</td>\n",
              "      <td>NaN</td>\n",
              "      <td>NaN</td>\n",
              "    </tr>\n",
              "    <tr>\n",
              "      <th>mean</th>\n",
              "      <td>NaN</td>\n",
              "      <td>NaN</td>\n",
              "      <td>NaN</td>\n",
              "      <td>NaN</td>\n",
              "      <td>NaN</td>\n",
              "      <td>2.836825</td>\n",
              "      <td>16705.016538</td>\n",
              "      <td>64.437486</td>\n",
              "      <td>969.206174</td>\n",
              "      <td>211.396913</td>\n",
              "      <td>700.077178</td>\n",
              "      <td>623.000695</td>\n",
              "    </tr>\n",
              "    <tr>\n",
              "      <th>std</th>\n",
              "      <td>NaN</td>\n",
              "      <td>NaN</td>\n",
              "      <td>NaN</td>\n",
              "      <td>NaN</td>\n",
              "      <td>NaN</td>\n",
              "      <td>0.945449</td>\n",
              "      <td>16582.385275</td>\n",
              "      <td>14.056333</td>\n",
              "      <td>517.154752</td>\n",
              "      <td>143.435740</td>\n",
              "      <td>320.374875</td>\n",
              "      <td>3801.746134</td>\n",
              "    </tr>\n",
              "    <tr>\n",
              "      <th>min</th>\n",
              "      <td>NaN</td>\n",
              "      <td>NaN</td>\n",
              "      <td>NaN</td>\n",
              "      <td>NaN</td>\n",
              "      <td>NaN</td>\n",
              "      <td>1.000000</td>\n",
              "      <td>0.000000</td>\n",
              "      <td>27.800000</td>\n",
              "      <td>150.000000</td>\n",
              "      <td>40.000000</td>\n",
              "      <td>200.000000</td>\n",
              "      <td>0.150000</td>\n",
              "    </tr>\n",
              "    <tr>\n",
              "      <th>25%</th>\n",
              "      <td>NaN</td>\n",
              "      <td>NaN</td>\n",
              "      <td>NaN</td>\n",
              "      <td>NaN</td>\n",
              "      <td>NaN</td>\n",
              "      <td>2.000000</td>\n",
              "      <td>2850.000000</td>\n",
              "      <td>56.300000</td>\n",
              "      <td>545.000000</td>\n",
              "      <td>100.000000</td>\n",
              "      <td>450.000000</td>\n",
              "      <td>0.920000</td>\n",
              "    </tr>\n",
              "    <tr>\n",
              "      <th>50%</th>\n",
              "      <td>NaN</td>\n",
              "      <td>NaN</td>\n",
              "      <td>NaN</td>\n",
              "      <td>NaN</td>\n",
              "      <td>NaN</td>\n",
              "      <td>3.000000</td>\n",
              "      <td>7500.000000</td>\n",
              "      <td>67.500000</td>\n",
              "      <td>900.000000</td>\n",
              "      <td>160.000000</td>\n",
              "      <td>650.000000</td>\n",
              "      <td>1.350000</td>\n",
              "    </tr>\n",
              "    <tr>\n",
              "      <th>75%</th>\n",
              "      <td>NaN</td>\n",
              "      <td>NaN</td>\n",
              "      <td>NaN</td>\n",
              "      <td>NaN</td>\n",
              "      <td>NaN</td>\n",
              "      <td>4.000000</td>\n",
              "      <td>31100.000000</td>\n",
              "      <td>72.200000</td>\n",
              "      <td>1300.000000</td>\n",
              "      <td>240.000000</td>\n",
              "      <td>800.000000</td>\n",
              "      <td>7.150000</td>\n",
              "    </tr>\n",
              "    <tr>\n",
              "      <th>max</th>\n",
              "      <td>NaN</td>\n",
              "      <td>NaN</td>\n",
              "      <td>NaN</td>\n",
              "      <td>NaN</td>\n",
              "      <td>NaN</td>\n",
              "      <td>5.000000</td>\n",
              "      <td>62000.000000</td>\n",
              "      <td>122.400000</td>\n",
              "      <td>2500.000000</td>\n",
              "      <td>490.000000</td>\n",
              "      <td>1500.000000</td>\n",
              "      <td>42150.000000</td>\n",
              "    </tr>\n",
              "  </tbody>\n",
              "</table>\n",
              "</div>\n",
              "    <div class=\"colab-df-buttons\">\n",
              "\n",
              "  <div class=\"colab-df-container\">\n",
              "    <button class=\"colab-df-convert\" onclick=\"convertToInteractive('df-e3fd50a4-500c-46eb-8d0f-8040aa81b769')\"\n",
              "            title=\"Convert this dataframe to an interactive table.\"\n",
              "            style=\"display:none;\">\n",
              "\n",
              "  <svg xmlns=\"http://www.w3.org/2000/svg\" height=\"24px\" viewBox=\"0 -960 960 960\">\n",
              "    <path d=\"M120-120v-720h720v720H120Zm60-500h600v-160H180v160Zm220 220h160v-160H400v160Zm0 220h160v-160H400v160ZM180-400h160v-160H180v160Zm440 0h160v-160H620v160ZM180-180h160v-160H180v160Zm440 0h160v-160H620v160Z\"/>\n",
              "  </svg>\n",
              "    </button>\n",
              "\n",
              "  <style>\n",
              "    .colab-df-container {\n",
              "      display:flex;\n",
              "      gap: 12px;\n",
              "    }\n",
              "\n",
              "    .colab-df-convert {\n",
              "      background-color: #E8F0FE;\n",
              "      border: none;\n",
              "      border-radius: 50%;\n",
              "      cursor: pointer;\n",
              "      display: none;\n",
              "      fill: #1967D2;\n",
              "      height: 32px;\n",
              "      padding: 0 0 0 0;\n",
              "      width: 32px;\n",
              "    }\n",
              "\n",
              "    .colab-df-convert:hover {\n",
              "      background-color: #E2EBFA;\n",
              "      box-shadow: 0px 1px 2px rgba(60, 64, 67, 0.3), 0px 1px 3px 1px rgba(60, 64, 67, 0.15);\n",
              "      fill: #174EA6;\n",
              "    }\n",
              "\n",
              "    .colab-df-buttons div {\n",
              "      margin-bottom: 4px;\n",
              "    }\n",
              "\n",
              "    [theme=dark] .colab-df-convert {\n",
              "      background-color: #3B4455;\n",
              "      fill: #D2E3FC;\n",
              "    }\n",
              "\n",
              "    [theme=dark] .colab-df-convert:hover {\n",
              "      background-color: #434B5C;\n",
              "      box-shadow: 0px 1px 3px 1px rgba(0, 0, 0, 0.15);\n",
              "      filter: drop-shadow(0px 1px 2px rgba(0, 0, 0, 0.3));\n",
              "      fill: #FFFFFF;\n",
              "    }\n",
              "  </style>\n",
              "\n",
              "    <script>\n",
              "      const buttonEl =\n",
              "        document.querySelector('#df-e3fd50a4-500c-46eb-8d0f-8040aa81b769 button.colab-df-convert');\n",
              "      buttonEl.style.display =\n",
              "        google.colab.kernel.accessAllowed ? 'block' : 'none';\n",
              "\n",
              "      async function convertToInteractive(key) {\n",
              "        const element = document.querySelector('#df-e3fd50a4-500c-46eb-8d0f-8040aa81b769');\n",
              "        const dataTable =\n",
              "          await google.colab.kernel.invokeFunction('convertToInteractive',\n",
              "                                                    [key], {});\n",
              "        if (!dataTable) return;\n",
              "\n",
              "        const docLinkHtml = 'Like what you see? Visit the ' +\n",
              "          '<a target=\"_blank\" href=https://colab.research.google.com/notebooks/data_table.ipynb>data table notebook</a>'\n",
              "          + ' to learn more about interactive tables.';\n",
              "        element.innerHTML = '';\n",
              "        dataTable['output_type'] = 'display_data';\n",
              "        await google.colab.output.renderOutput(dataTable, element);\n",
              "        const docLink = document.createElement('div');\n",
              "        docLink.innerHTML = docLinkHtml;\n",
              "        element.appendChild(docLink);\n",
              "      }\n",
              "    </script>\n",
              "  </div>\n",
              "\n",
              "\n",
              "    <div id=\"df-d5f24df6-07f0-4940-a514-085681cc75c8\">\n",
              "      <button class=\"colab-df-quickchart\" onclick=\"quickchart('df-d5f24df6-07f0-4940-a514-085681cc75c8')\"\n",
              "                title=\"Suggest charts\"\n",
              "                style=\"display:none;\">\n",
              "\n",
              "<svg xmlns=\"http://www.w3.org/2000/svg\" height=\"24px\"viewBox=\"0 0 24 24\"\n",
              "     width=\"24px\">\n",
              "    <g>\n",
              "        <path d=\"M19 3H5c-1.1 0-2 .9-2 2v14c0 1.1.9 2 2 2h14c1.1 0 2-.9 2-2V5c0-1.1-.9-2-2-2zM9 17H7v-7h2v7zm4 0h-2V7h2v10zm4 0h-2v-4h2v4z\"/>\n",
              "    </g>\n",
              "</svg>\n",
              "      </button>\n",
              "\n",
              "<style>\n",
              "  .colab-df-quickchart {\n",
              "      --bg-color: #E8F0FE;\n",
              "      --fill-color: #1967D2;\n",
              "      --hover-bg-color: #E2EBFA;\n",
              "      --hover-fill-color: #174EA6;\n",
              "      --disabled-fill-color: #AAA;\n",
              "      --disabled-bg-color: #DDD;\n",
              "  }\n",
              "\n",
              "  [theme=dark] .colab-df-quickchart {\n",
              "      --bg-color: #3B4455;\n",
              "      --fill-color: #D2E3FC;\n",
              "      --hover-bg-color: #434B5C;\n",
              "      --hover-fill-color: #FFFFFF;\n",
              "      --disabled-bg-color: #3B4455;\n",
              "      --disabled-fill-color: #666;\n",
              "  }\n",
              "\n",
              "  .colab-df-quickchart {\n",
              "    background-color: var(--bg-color);\n",
              "    border: none;\n",
              "    border-radius: 50%;\n",
              "    cursor: pointer;\n",
              "    display: none;\n",
              "    fill: var(--fill-color);\n",
              "    height: 32px;\n",
              "    padding: 0;\n",
              "    width: 32px;\n",
              "  }\n",
              "\n",
              "  .colab-df-quickchart:hover {\n",
              "    background-color: var(--hover-bg-color);\n",
              "    box-shadow: 0 1px 2px rgba(60, 64, 67, 0.3), 0 1px 3px 1px rgba(60, 64, 67, 0.15);\n",
              "    fill: var(--button-hover-fill-color);\n",
              "  }\n",
              "\n",
              "  .colab-df-quickchart-complete:disabled,\n",
              "  .colab-df-quickchart-complete:disabled:hover {\n",
              "    background-color: var(--disabled-bg-color);\n",
              "    fill: var(--disabled-fill-color);\n",
              "    box-shadow: none;\n",
              "  }\n",
              "\n",
              "  .colab-df-spinner {\n",
              "    border: 2px solid var(--fill-color);\n",
              "    border-color: transparent;\n",
              "    border-bottom-color: var(--fill-color);\n",
              "    animation:\n",
              "      spin 1s steps(1) infinite;\n",
              "  }\n",
              "\n",
              "  @keyframes spin {\n",
              "    0% {\n",
              "      border-color: transparent;\n",
              "      border-bottom-color: var(--fill-color);\n",
              "      border-left-color: var(--fill-color);\n",
              "    }\n",
              "    20% {\n",
              "      border-color: transparent;\n",
              "      border-left-color: var(--fill-color);\n",
              "      border-top-color: var(--fill-color);\n",
              "    }\n",
              "    30% {\n",
              "      border-color: transparent;\n",
              "      border-left-color: var(--fill-color);\n",
              "      border-top-color: var(--fill-color);\n",
              "      border-right-color: var(--fill-color);\n",
              "    }\n",
              "    40% {\n",
              "      border-color: transparent;\n",
              "      border-right-color: var(--fill-color);\n",
              "      border-top-color: var(--fill-color);\n",
              "    }\n",
              "    60% {\n",
              "      border-color: transparent;\n",
              "      border-right-color: var(--fill-color);\n",
              "    }\n",
              "    80% {\n",
              "      border-color: transparent;\n",
              "      border-right-color: var(--fill-color);\n",
              "      border-bottom-color: var(--fill-color);\n",
              "    }\n",
              "    90% {\n",
              "      border-color: transparent;\n",
              "      border-bottom-color: var(--fill-color);\n",
              "    }\n",
              "  }\n",
              "</style>\n",
              "\n",
              "      <script>\n",
              "        async function quickchart(key) {\n",
              "          const quickchartButtonEl =\n",
              "            document.querySelector('#' + key + ' button');\n",
              "          quickchartButtonEl.disabled = true;  // To prevent multiple clicks.\n",
              "          quickchartButtonEl.classList.add('colab-df-spinner');\n",
              "          try {\n",
              "            const charts = await google.colab.kernel.invokeFunction(\n",
              "                'suggestCharts', [key], {});\n",
              "          } catch (error) {\n",
              "            console.error('Error during call to suggestCharts:', error);\n",
              "          }\n",
              "          quickchartButtonEl.classList.remove('colab-df-spinner');\n",
              "          quickchartButtonEl.classList.add('colab-df-quickchart-complete');\n",
              "        }\n",
              "        (() => {\n",
              "          let quickchartButtonEl =\n",
              "            document.querySelector('#df-d5f24df6-07f0-4940-a514-085681cc75c8 button');\n",
              "          quickchartButtonEl.style.display =\n",
              "            google.colab.kernel.accessAllowed ? 'block' : 'none';\n",
              "        })();\n",
              "      </script>\n",
              "    </div>\n",
              "\n",
              "    </div>\n",
              "  </div>\n"
            ],
            "application/vnd.google.colaboratory.intrinsic+json": {
              "type": "dataframe",
              "summary": "{\n  \"name\": \"df\",\n  \"rows\": 11,\n  \"fields\": [\n    {\n      \"column\": \"Country\",\n      \"properties\": {\n        \"dtype\": \"category\",\n        \"num_unique_values\": 4,\n        \"samples\": [\n          71,\n          \"93\",\n          \"907\"\n        ],\n        \"semantic_type\": \"\",\n        \"description\": \"\"\n      }\n    },\n    {\n      \"column\": \"City\",\n      \"properties\": {\n        \"dtype\": \"category\",\n        \"num_unique_values\": 4,\n        \"samples\": [\n          556,\n          \"18\",\n          \"907\"\n        ],\n        \"semantic_type\": \"\",\n        \"description\": \"\"\n      }\n    },\n    {\n      \"column\": \"University\",\n      \"properties\": {\n        \"dtype\": \"category\",\n        \"num_unique_values\": 4,\n        \"samples\": [\n          622,\n          \"6\",\n          \"907\"\n        ],\n        \"semantic_type\": \"\",\n        \"description\": \"\"\n      }\n    },\n    {\n      \"column\": \"Program\",\n      \"properties\": {\n        \"dtype\": \"category\",\n        \"num_unique_values\": 4,\n        \"samples\": [\n          92,\n          \"312\",\n          \"907\"\n        ],\n        \"semantic_type\": \"\",\n        \"description\": \"\"\n      }\n    },\n    {\n      \"column\": \"Level\",\n      \"properties\": {\n        \"dtype\": \"category\",\n        \"num_unique_values\": 4,\n        \"samples\": [\n          3,\n          \"451\",\n          \"907\"\n        ],\n        \"semantic_type\": \"\",\n        \"description\": \"\"\n      }\n    },\n    {\n      \"column\": \"Duration_Years\",\n      \"properties\": {\n        \"dtype\": \"number\",\n        \"std\": 319.72730325133716,\n        \"min\": 0.9454492228733279,\n        \"max\": 907.0,\n        \"num_unique_values\": 8,\n        \"samples\": [\n          2.8368246968026463,\n          3.0,\n          907.0\n        ],\n        \"semantic_type\": \"\",\n        \"description\": \"\"\n      }\n    },\n    {\n      \"column\": \"Tuition_USD\",\n      \"properties\": {\n        \"dtype\": \"number\",\n        \"std\": 20915.443915018823,\n        \"min\": 0.0,\n        \"max\": 62000.0,\n        \"num_unique_values\": 8,\n        \"samples\": [\n          16705.016538037486,\n          7500.0,\n          907.0\n        ],\n        \"semantic_type\": \"\",\n        \"description\": \"\"\n      }\n    },\n    {\n      \"column\": \"Living_Cost_Index\",\n      \"properties\": {\n        \"dtype\": \"number\",\n        \"std\": 300.9546944241485,\n        \"min\": 14.056332796543055,\n        \"max\": 907.0,\n        \"num_unique_values\": 8,\n        \"samples\": [\n          64.4374862183021,\n          67.5,\n          907.0\n        ],\n        \"semantic_type\": \"\",\n        \"description\": \"\"\n      }\n    },\n    {\n      \"column\": \"Rent_USD\",\n      \"properties\": {\n        \"dtype\": \"number\",\n        \"std\": 708.7879902224207,\n        \"min\": 150.0,\n        \"max\": 2500.0,\n        \"num_unique_values\": 8,\n        \"samples\": [\n          969.2061742006615,\n          900.0,\n          907.0\n        ],\n        \"semantic_type\": \"\",\n        \"description\": \"\"\n      }\n    },\n    {\n      \"column\": \"Visa_Fee_USD\",\n      \"properties\": {\n        \"dtype\": \"number\",\n        \"std\": 284.416533779125,\n        \"min\": 40.0,\n        \"max\": 907.0,\n        \"num_unique_values\": 8,\n        \"samples\": [\n          211.39691289966925,\n          160.0,\n          907.0\n        ],\n        \"semantic_type\": \"\",\n        \"description\": \"\"\n      }\n    },\n    {\n      \"column\": \"Insurance_USD\",\n      \"properties\": {\n        \"dtype\": \"number\",\n        \"std\": 405.5518887380784,\n        \"min\": 200.0,\n        \"max\": 1500.0,\n        \"num_unique_values\": 8,\n        \"samples\": [\n          700.0771775082691,\n          650.0,\n          907.0\n        ],\n        \"semantic_type\": \"\",\n        \"description\": \"\"\n      }\n    },\n    {\n      \"column\": \"Exchange_Rate\",\n      \"properties\": {\n        \"dtype\": \"number\",\n        \"std\": 14688.958241685405,\n        \"min\": 0.15,\n        \"max\": 42150.0,\n        \"num_unique_values\": 8,\n        \"samples\": [\n          623.0006945975744,\n          1.35,\n          907.0\n        ],\n        \"semantic_type\": \"\",\n        \"description\": \"\"\n      }\n    }\n  ]\n}"
            }
          },
          "metadata": {},
          "execution_count": 88
        }
      ]
    },
    {
      "cell_type": "code",
      "source": [
        "# Head\n",
        "\n",
        "df.head()"
      ],
      "metadata": {
        "colab": {
          "base_uri": "https://localhost:8080/",
          "height": 328
        },
        "id": "MDjK7zCu07wV",
        "outputId": "69544dbe-d4ba-4ad7-f8ea-e564c9c1e744"
      },
      "execution_count": 89,
      "outputs": [
        {
          "output_type": "execute_result",
          "data": {
            "text/plain": [
              "     Country       City                      University  \\\n",
              "0        USA  Cambridge              Harvard University   \n",
              "1         UK     London         Imperial College London   \n",
              "2     Canada    Toronto           University of Toronto   \n",
              "3  Australia  Melbourne         University of Melbourne   \n",
              "4    Germany     Munich  Technical University of Munich   \n",
              "\n",
              "                  Program   Level  Duration_Years  Tuition_USD  \\\n",
              "0        Computer Science  Master             2.0        55400   \n",
              "1            Data Science  Master             1.0        41200   \n",
              "2      Business Analytics  Master             2.0        38500   \n",
              "3             Engineering  Master             2.0        42000   \n",
              "4  Mechanical Engineering  Master             2.0          500   \n",
              "\n",
              "   Living_Cost_Index  Rent_USD  Visa_Fee_USD  Insurance_USD  Exchange_Rate  \n",
              "0               83.5      2200           160           1500           1.00  \n",
              "1               75.8      1800           485            800           0.79  \n",
              "2               72.5      1600           235            900           1.35  \n",
              "3               71.2      1400           450            650           1.52  \n",
              "4               70.5      1100            75            550           0.92  "
            ],
            "text/html": [
              "\n",
              "  <div id=\"df-b2a82fad-ba34-45fe-9998-e0b6b28b3426\" class=\"colab-df-container\">\n",
              "    <div>\n",
              "<style scoped>\n",
              "    .dataframe tbody tr th:only-of-type {\n",
              "        vertical-align: middle;\n",
              "    }\n",
              "\n",
              "    .dataframe tbody tr th {\n",
              "        vertical-align: top;\n",
              "    }\n",
              "\n",
              "    .dataframe thead th {\n",
              "        text-align: right;\n",
              "    }\n",
              "</style>\n",
              "<table border=\"1\" class=\"dataframe\">\n",
              "  <thead>\n",
              "    <tr style=\"text-align: right;\">\n",
              "      <th></th>\n",
              "      <th>Country</th>\n",
              "      <th>City</th>\n",
              "      <th>University</th>\n",
              "      <th>Program</th>\n",
              "      <th>Level</th>\n",
              "      <th>Duration_Years</th>\n",
              "      <th>Tuition_USD</th>\n",
              "      <th>Living_Cost_Index</th>\n",
              "      <th>Rent_USD</th>\n",
              "      <th>Visa_Fee_USD</th>\n",
              "      <th>Insurance_USD</th>\n",
              "      <th>Exchange_Rate</th>\n",
              "    </tr>\n",
              "  </thead>\n",
              "  <tbody>\n",
              "    <tr>\n",
              "      <th>0</th>\n",
              "      <td>USA</td>\n",
              "      <td>Cambridge</td>\n",
              "      <td>Harvard University</td>\n",
              "      <td>Computer Science</td>\n",
              "      <td>Master</td>\n",
              "      <td>2.0</td>\n",
              "      <td>55400</td>\n",
              "      <td>83.5</td>\n",
              "      <td>2200</td>\n",
              "      <td>160</td>\n",
              "      <td>1500</td>\n",
              "      <td>1.00</td>\n",
              "    </tr>\n",
              "    <tr>\n",
              "      <th>1</th>\n",
              "      <td>UK</td>\n",
              "      <td>London</td>\n",
              "      <td>Imperial College London</td>\n",
              "      <td>Data Science</td>\n",
              "      <td>Master</td>\n",
              "      <td>1.0</td>\n",
              "      <td>41200</td>\n",
              "      <td>75.8</td>\n",
              "      <td>1800</td>\n",
              "      <td>485</td>\n",
              "      <td>800</td>\n",
              "      <td>0.79</td>\n",
              "    </tr>\n",
              "    <tr>\n",
              "      <th>2</th>\n",
              "      <td>Canada</td>\n",
              "      <td>Toronto</td>\n",
              "      <td>University of Toronto</td>\n",
              "      <td>Business Analytics</td>\n",
              "      <td>Master</td>\n",
              "      <td>2.0</td>\n",
              "      <td>38500</td>\n",
              "      <td>72.5</td>\n",
              "      <td>1600</td>\n",
              "      <td>235</td>\n",
              "      <td>900</td>\n",
              "      <td>1.35</td>\n",
              "    </tr>\n",
              "    <tr>\n",
              "      <th>3</th>\n",
              "      <td>Australia</td>\n",
              "      <td>Melbourne</td>\n",
              "      <td>University of Melbourne</td>\n",
              "      <td>Engineering</td>\n",
              "      <td>Master</td>\n",
              "      <td>2.0</td>\n",
              "      <td>42000</td>\n",
              "      <td>71.2</td>\n",
              "      <td>1400</td>\n",
              "      <td>450</td>\n",
              "      <td>650</td>\n",
              "      <td>1.52</td>\n",
              "    </tr>\n",
              "    <tr>\n",
              "      <th>4</th>\n",
              "      <td>Germany</td>\n",
              "      <td>Munich</td>\n",
              "      <td>Technical University of Munich</td>\n",
              "      <td>Mechanical Engineering</td>\n",
              "      <td>Master</td>\n",
              "      <td>2.0</td>\n",
              "      <td>500</td>\n",
              "      <td>70.5</td>\n",
              "      <td>1100</td>\n",
              "      <td>75</td>\n",
              "      <td>550</td>\n",
              "      <td>0.92</td>\n",
              "    </tr>\n",
              "  </tbody>\n",
              "</table>\n",
              "</div>\n",
              "    <div class=\"colab-df-buttons\">\n",
              "\n",
              "  <div class=\"colab-df-container\">\n",
              "    <button class=\"colab-df-convert\" onclick=\"convertToInteractive('df-b2a82fad-ba34-45fe-9998-e0b6b28b3426')\"\n",
              "            title=\"Convert this dataframe to an interactive table.\"\n",
              "            style=\"display:none;\">\n",
              "\n",
              "  <svg xmlns=\"http://www.w3.org/2000/svg\" height=\"24px\" viewBox=\"0 -960 960 960\">\n",
              "    <path d=\"M120-120v-720h720v720H120Zm60-500h600v-160H180v160Zm220 220h160v-160H400v160Zm0 220h160v-160H400v160ZM180-400h160v-160H180v160Zm440 0h160v-160H620v160ZM180-180h160v-160H180v160Zm440 0h160v-160H620v160Z\"/>\n",
              "  </svg>\n",
              "    </button>\n",
              "\n",
              "  <style>\n",
              "    .colab-df-container {\n",
              "      display:flex;\n",
              "      gap: 12px;\n",
              "    }\n",
              "\n",
              "    .colab-df-convert {\n",
              "      background-color: #E8F0FE;\n",
              "      border: none;\n",
              "      border-radius: 50%;\n",
              "      cursor: pointer;\n",
              "      display: none;\n",
              "      fill: #1967D2;\n",
              "      height: 32px;\n",
              "      padding: 0 0 0 0;\n",
              "      width: 32px;\n",
              "    }\n",
              "\n",
              "    .colab-df-convert:hover {\n",
              "      background-color: #E2EBFA;\n",
              "      box-shadow: 0px 1px 2px rgba(60, 64, 67, 0.3), 0px 1px 3px 1px rgba(60, 64, 67, 0.15);\n",
              "      fill: #174EA6;\n",
              "    }\n",
              "\n",
              "    .colab-df-buttons div {\n",
              "      margin-bottom: 4px;\n",
              "    }\n",
              "\n",
              "    [theme=dark] .colab-df-convert {\n",
              "      background-color: #3B4455;\n",
              "      fill: #D2E3FC;\n",
              "    }\n",
              "\n",
              "    [theme=dark] .colab-df-convert:hover {\n",
              "      background-color: #434B5C;\n",
              "      box-shadow: 0px 1px 3px 1px rgba(0, 0, 0, 0.15);\n",
              "      filter: drop-shadow(0px 1px 2px rgba(0, 0, 0, 0.3));\n",
              "      fill: #FFFFFF;\n",
              "    }\n",
              "  </style>\n",
              "\n",
              "    <script>\n",
              "      const buttonEl =\n",
              "        document.querySelector('#df-b2a82fad-ba34-45fe-9998-e0b6b28b3426 button.colab-df-convert');\n",
              "      buttonEl.style.display =\n",
              "        google.colab.kernel.accessAllowed ? 'block' : 'none';\n",
              "\n",
              "      async function convertToInteractive(key) {\n",
              "        const element = document.querySelector('#df-b2a82fad-ba34-45fe-9998-e0b6b28b3426');\n",
              "        const dataTable =\n",
              "          await google.colab.kernel.invokeFunction('convertToInteractive',\n",
              "                                                    [key], {});\n",
              "        if (!dataTable) return;\n",
              "\n",
              "        const docLinkHtml = 'Like what you see? Visit the ' +\n",
              "          '<a target=\"_blank\" href=https://colab.research.google.com/notebooks/data_table.ipynb>data table notebook</a>'\n",
              "          + ' to learn more about interactive tables.';\n",
              "        element.innerHTML = '';\n",
              "        dataTable['output_type'] = 'display_data';\n",
              "        await google.colab.output.renderOutput(dataTable, element);\n",
              "        const docLink = document.createElement('div');\n",
              "        docLink.innerHTML = docLinkHtml;\n",
              "        element.appendChild(docLink);\n",
              "      }\n",
              "    </script>\n",
              "  </div>\n",
              "\n",
              "\n",
              "    <div id=\"df-7b3c9aeb-69c6-47e1-8846-e20517250757\">\n",
              "      <button class=\"colab-df-quickchart\" onclick=\"quickchart('df-7b3c9aeb-69c6-47e1-8846-e20517250757')\"\n",
              "                title=\"Suggest charts\"\n",
              "                style=\"display:none;\">\n",
              "\n",
              "<svg xmlns=\"http://www.w3.org/2000/svg\" height=\"24px\"viewBox=\"0 0 24 24\"\n",
              "     width=\"24px\">\n",
              "    <g>\n",
              "        <path d=\"M19 3H5c-1.1 0-2 .9-2 2v14c0 1.1.9 2 2 2h14c1.1 0 2-.9 2-2V5c0-1.1-.9-2-2-2zM9 17H7v-7h2v7zm4 0h-2V7h2v10zm4 0h-2v-4h2v4z\"/>\n",
              "    </g>\n",
              "</svg>\n",
              "      </button>\n",
              "\n",
              "<style>\n",
              "  .colab-df-quickchart {\n",
              "      --bg-color: #E8F0FE;\n",
              "      --fill-color: #1967D2;\n",
              "      --hover-bg-color: #E2EBFA;\n",
              "      --hover-fill-color: #174EA6;\n",
              "      --disabled-fill-color: #AAA;\n",
              "      --disabled-bg-color: #DDD;\n",
              "  }\n",
              "\n",
              "  [theme=dark] .colab-df-quickchart {\n",
              "      --bg-color: #3B4455;\n",
              "      --fill-color: #D2E3FC;\n",
              "      --hover-bg-color: #434B5C;\n",
              "      --hover-fill-color: #FFFFFF;\n",
              "      --disabled-bg-color: #3B4455;\n",
              "      --disabled-fill-color: #666;\n",
              "  }\n",
              "\n",
              "  .colab-df-quickchart {\n",
              "    background-color: var(--bg-color);\n",
              "    border: none;\n",
              "    border-radius: 50%;\n",
              "    cursor: pointer;\n",
              "    display: none;\n",
              "    fill: var(--fill-color);\n",
              "    height: 32px;\n",
              "    padding: 0;\n",
              "    width: 32px;\n",
              "  }\n",
              "\n",
              "  .colab-df-quickchart:hover {\n",
              "    background-color: var(--hover-bg-color);\n",
              "    box-shadow: 0 1px 2px rgba(60, 64, 67, 0.3), 0 1px 3px 1px rgba(60, 64, 67, 0.15);\n",
              "    fill: var(--button-hover-fill-color);\n",
              "  }\n",
              "\n",
              "  .colab-df-quickchart-complete:disabled,\n",
              "  .colab-df-quickchart-complete:disabled:hover {\n",
              "    background-color: var(--disabled-bg-color);\n",
              "    fill: var(--disabled-fill-color);\n",
              "    box-shadow: none;\n",
              "  }\n",
              "\n",
              "  .colab-df-spinner {\n",
              "    border: 2px solid var(--fill-color);\n",
              "    border-color: transparent;\n",
              "    border-bottom-color: var(--fill-color);\n",
              "    animation:\n",
              "      spin 1s steps(1) infinite;\n",
              "  }\n",
              "\n",
              "  @keyframes spin {\n",
              "    0% {\n",
              "      border-color: transparent;\n",
              "      border-bottom-color: var(--fill-color);\n",
              "      border-left-color: var(--fill-color);\n",
              "    }\n",
              "    20% {\n",
              "      border-color: transparent;\n",
              "      border-left-color: var(--fill-color);\n",
              "      border-top-color: var(--fill-color);\n",
              "    }\n",
              "    30% {\n",
              "      border-color: transparent;\n",
              "      border-left-color: var(--fill-color);\n",
              "      border-top-color: var(--fill-color);\n",
              "      border-right-color: var(--fill-color);\n",
              "    }\n",
              "    40% {\n",
              "      border-color: transparent;\n",
              "      border-right-color: var(--fill-color);\n",
              "      border-top-color: var(--fill-color);\n",
              "    }\n",
              "    60% {\n",
              "      border-color: transparent;\n",
              "      border-right-color: var(--fill-color);\n",
              "    }\n",
              "    80% {\n",
              "      border-color: transparent;\n",
              "      border-right-color: var(--fill-color);\n",
              "      border-bottom-color: var(--fill-color);\n",
              "    }\n",
              "    90% {\n",
              "      border-color: transparent;\n",
              "      border-bottom-color: var(--fill-color);\n",
              "    }\n",
              "  }\n",
              "</style>\n",
              "\n",
              "      <script>\n",
              "        async function quickchart(key) {\n",
              "          const quickchartButtonEl =\n",
              "            document.querySelector('#' + key + ' button');\n",
              "          quickchartButtonEl.disabled = true;  // To prevent multiple clicks.\n",
              "          quickchartButtonEl.classList.add('colab-df-spinner');\n",
              "          try {\n",
              "            const charts = await google.colab.kernel.invokeFunction(\n",
              "                'suggestCharts', [key], {});\n",
              "          } catch (error) {\n",
              "            console.error('Error during call to suggestCharts:', error);\n",
              "          }\n",
              "          quickchartButtonEl.classList.remove('colab-df-spinner');\n",
              "          quickchartButtonEl.classList.add('colab-df-quickchart-complete');\n",
              "        }\n",
              "        (() => {\n",
              "          let quickchartButtonEl =\n",
              "            document.querySelector('#df-7b3c9aeb-69c6-47e1-8846-e20517250757 button');\n",
              "          quickchartButtonEl.style.display =\n",
              "            google.colab.kernel.accessAllowed ? 'block' : 'none';\n",
              "        })();\n",
              "      </script>\n",
              "    </div>\n",
              "\n",
              "    </div>\n",
              "  </div>\n"
            ],
            "application/vnd.google.colaboratory.intrinsic+json": {
              "type": "dataframe",
              "variable_name": "df",
              "summary": "{\n  \"name\": \"df\",\n  \"rows\": 907,\n  \"fields\": [\n    {\n      \"column\": \"Country\",\n      \"properties\": {\n        \"dtype\": \"category\",\n        \"num_unique_values\": 71,\n        \"samples\": [\n          \"Czech Republic\",\n          \"USA\",\n          \"Tunisia\"\n        ],\n        \"semantic_type\": \"\",\n        \"description\": \"\"\n      }\n    },\n    {\n      \"column\": \"City\",\n      \"properties\": {\n        \"dtype\": \"string\",\n        \"num_unique_values\": 556,\n        \"samples\": [\n          \"Oujda\",\n          \"Guangzhou\",\n          \"Rotterdam\"\n        ],\n        \"semantic_type\": \"\",\n        \"description\": \"\"\n      }\n    },\n    {\n      \"column\": \"University\",\n      \"properties\": {\n        \"dtype\": \"string\",\n        \"num_unique_values\": 622,\n        \"samples\": [\n          \"University of Westminster\",\n          \"University of Miskolc\",\n          \"University of Neuchatel\"\n        ],\n        \"semantic_type\": \"\",\n        \"description\": \"\"\n      }\n    },\n    {\n      \"column\": \"Program\",\n      \"properties\": {\n        \"dtype\": \"category\",\n        \"num_unique_values\": 92,\n        \"samples\": [\n          \"Information Systems\",\n          \"Mathematics\",\n          \"Technology & Innovation\"\n        ],\n        \"semantic_type\": \"\",\n        \"description\": \"\"\n      }\n    },\n    {\n      \"column\": \"Level\",\n      \"properties\": {\n        \"dtype\": \"category\",\n        \"num_unique_values\": 3,\n        \"samples\": [\n          \"Master\",\n          \"Bachelor\",\n          \"PhD\"\n        ],\n        \"semantic_type\": \"\",\n        \"description\": \"\"\n      }\n    },\n    {\n      \"column\": \"Duration_Years\",\n      \"properties\": {\n        \"dtype\": \"number\",\n        \"std\": 0.9454492228733279,\n        \"min\": 1.0,\n        \"max\": 5.0,\n        \"num_unique_values\": 7,\n        \"samples\": [\n          2.0,\n          1.0,\n          3.0\n        ],\n        \"semantic_type\": \"\",\n        \"description\": \"\"\n      }\n    },\n    {\n      \"column\": \"Tuition_USD\",\n      \"properties\": {\n        \"dtype\": \"number\",\n        \"std\": 16582,\n        \"min\": 0,\n        \"max\": 62000,\n        \"num_unique_values\": 274,\n        \"samples\": [\n          44200,\n          19600,\n          40800\n        ],\n        \"semantic_type\": \"\",\n        \"description\": \"\"\n      }\n    },\n    {\n      \"column\": \"Living_Cost_Index\",\n      \"properties\": {\n        \"dtype\": \"number\",\n        \"std\": 14.056332796543055,\n        \"min\": 27.8,\n        \"max\": 122.4,\n        \"num_unique_values\": 225,\n        \"samples\": [\n          91.5,\n          49.8,\n          67.9\n        ],\n        \"semantic_type\": \"\",\n        \"description\": \"\"\n      }\n    },\n    {\n      \"column\": \"Rent_USD\",\n      \"properties\": {\n        \"dtype\": \"number\",\n        \"std\": 517,\n        \"min\": 150,\n        \"max\": 2500,\n        \"num_unique_values\": 67,\n        \"samples\": [\n          570,\n          650,\n          1100\n        ],\n        \"semantic_type\": \"\",\n        \"description\": \"\"\n      }\n    },\n    {\n      \"column\": \"Visa_Fee_USD\",\n      \"properties\": {\n        \"dtype\": \"number\",\n        \"std\": 143,\n        \"min\": 40,\n        \"max\": 490,\n        \"num_unique_values\": 30,\n        \"samples\": [\n          40,\n          245,\n          275\n        ],\n        \"semantic_type\": \"\",\n        \"description\": \"\"\n      }\n    },\n    {\n      \"column\": \"Insurance_USD\",\n      \"properties\": {\n        \"dtype\": \"number\",\n        \"std\": 320,\n        \"min\": 200,\n        \"max\": 1500,\n        \"num_unique_values\": 20,\n        \"samples\": [\n          1500,\n          200,\n          850\n        ],\n        \"semantic_type\": \"\",\n        \"description\": \"\"\n      }\n    },\n    {\n      \"column\": \"Exchange_Rate\",\n      \"properties\": {\n        \"dtype\": \"number\",\n        \"std\": 3801.746134147807,\n        \"min\": 0.15,\n        \"max\": 42150.0,\n        \"num_unique_values\": 65,\n        \"samples\": [\n          275.0,\n          0.31,\n          1.0\n        ],\n        \"semantic_type\": \"\",\n        \"description\": \"\"\n      }\n    }\n  ]\n}"
            }
          },
          "metadata": {},
          "execution_count": 89
        }
      ]
    },
    {
      "cell_type": "code",
      "source": [
        "# Shape\n",
        "\n",
        "print(f\"{df.shape}: Number of rows: {df.shape[0]}, number of columns: {df.shape[1]}\")\n",
        "print('\\n')\n"
      ],
      "metadata": {
        "colab": {
          "base_uri": "https://localhost:8080/"
        },
        "id": "VmEViLkJ07eW",
        "outputId": "36750204-0f6b-4d18-8849-551568c2782e"
      },
      "execution_count": 90,
      "outputs": [
        {
          "output_type": "stream",
          "name": "stdout",
          "text": [
            "(907, 12): Number of rows: 907, number of columns: 12\n",
            "\n",
            "\n"
          ]
        }
      ]
    },
    {
      "cell_type": "code",
      "source": [
        "# Columns\n",
        "columns = df.columns.tolist()\n",
        "print(f\"Column Names: \")\n",
        "print('\\n'.join(columns))"
      ],
      "metadata": {
        "colab": {
          "base_uri": "https://localhost:8080/"
        },
        "id": "DVVvyalX07Fm",
        "outputId": "d1923b46-467b-4495-bde7-cd324b7bef09"
      },
      "execution_count": 91,
      "outputs": [
        {
          "output_type": "stream",
          "name": "stdout",
          "text": [
            "Column Names: \n",
            "Country\n",
            "City\n",
            "University\n",
            "Program\n",
            "Level\n",
            "Duration_Years\n",
            "Tuition_USD\n",
            "Living_Cost_Index\n",
            "Rent_USD\n",
            "Visa_Fee_USD\n",
            "Insurance_USD\n",
            "Exchange_Rate\n"
          ]
        }
      ]
    },
    {
      "cell_type": "markdown",
      "source": [
        "5. Inquiry Question: Write a clear, specific question that you want to answer using your dataset by creating a text cell below and **write the question in bold please.**\n",
        "\n",
        "For example:\n",
        "\n",
        "* \"How has the average temperature changed in major cities over the past decade?\"\n",
        "\n",
        "* \"What factors are most strongly correlated with housing prices?\"\n",
        "\n",
        "* \"Is there a relationship between education level and income?\""
      ],
      "metadata": {
        "id": "1CAoVArPubG2"
      }
    },
    {
      "cell_type": "markdown",
      "source": [
        "**How is tuition relevent to being an international student?**"
      ],
      "metadata": {
        "id": "5vC0qfX-3jKM"
      }
    },
    {
      "cell_type": "markdown",
      "source": [
        "## Part 2: Data Visualization and Analysis"
      ],
      "metadata": {
        "id": "leRD1hhlvBL9"
      }
    },
    {
      "cell_type": "markdown",
      "source": [
        "#### TODO Tasks:"
      ],
      "metadata": {
        "id": "SQL1K1UivEhO"
      }
    },
    {
      "cell_type": "markdown",
      "source": [
        "1. Data Cleaning (if necessary): Check for and handle any missing values, duplicates, or data quality issues.\n",
        "\n",
        "**NOTE: This could be a daunting task even for seasoned data scientists. My suggestion is to use a dataset that is already clean if you can for the purpose of completing this assignment in a week.**"
      ],
      "metadata": {
        "id": "MH6rcdRpxz1h"
      }
    },
    {
      "cell_type": "markdown",
      "source": [
        "Examples:\n",
        "\n",
        "* Checking for missing values: df.isnull().sum()\n",
        "* Dropping rows with any missing values: df.dropna(inplace=True)\n",
        "* Dropping columns with all missing values: df.dropna(axis=1, how='all', inplace=True)\n",
        "* Removing duplicate row: df.drop_duplicates(inplace=True)"
      ],
      "metadata": {
        "id": "k3EEucl20uOF"
      }
    },
    {
      "cell_type": "markdown",
      "source": [
        "2. Create Visualizations: Create at least 2 different types of visualizations that help answer your research question. Choose from:\n",
        "\n",
        "* Bar charts\n",
        "* Line plots\n",
        "* Scatter plots\n",
        "* Histograms\n",
        "* Box plots\n",
        "* Heatmaps\n",
        "* Any other appropriate visualization"
      ],
      "metadata": {
        "id": "Cxqgn-BPyPo2"
      }
    },
    {
      "cell_type": "markdown",
      "source": [
        "3. Customize Your Plots: Make sure your visualizations are clear and informative by:\n",
        "\n",
        "* Adding appropriate titles\n",
        "* Labeling axes\n",
        "* Using colors effectively\n",
        "* Adding legends when necessary"
      ],
      "metadata": {
        "id": "w5sbnVPdyksd"
      }
    },
    {
      "cell_type": "markdown",
      "source": [
        "Please create code cells below this to create your visualizations."
      ],
      "metadata": {
        "id": "2qIRJi1az118"
      }
    },
    {
      "cell_type": "code",
      "source": [
        "# imports\n",
        "\n",
        "from matplotlib import pyplot as plt\n"
      ],
      "metadata": {
        "id": "zzCQlODC_VnQ"
      },
      "execution_count": 92,
      "outputs": []
    },
    {
      "cell_type": "code",
      "source": [
        "# Tuition_USD\n",
        "\n",
        "plt.figure(figsize=(12, 6))\n",
        "sns.histplot(df['Tuition_USD'], kde=True, bins=30,color='yellowgreen')\n",
        "median_tuition = df['Tuition_USD'].median()\n",
        "plt.axvline(median_tuition, color='pink', linestyle='dotted', linewidth=2, label=f'Median: ${median_tuition:,.2f}')\n",
        "plt.title('Distribution of Tuition_USD')\n",
        "plt.xlabel('Tuition in USD')\n",
        "plt.ylabel('Frequency')\n",
        "plt.legend()\n",
        "plt.show()"
      ],
      "metadata": {
        "colab": {
          "base_uri": "https://localhost:8080/",
          "height": 573
        },
        "id": "YibbejIaB7jd",
        "outputId": "ab2545f6-8b66-4314-e457-df0ed6c810c5"
      },
      "execution_count": 93,
      "outputs": [
        {
          "output_type": "display_data",
          "data": {
            "text/plain": [
              "<Figure size 1200x600 with 1 Axes>"
            ],
            "image/png": "[encoded data removed]"
          },
          "metadata": {}
        }
      ]
    },
    {
      "cell_type": "code",
      "source": [
        "# Tuition_USD vs Level\n",
        "plt.figure(figsize=(12, 6))\n",
        "sns.barplot(x='Level', y='Tuition_USD', data=df, errorbar=None, color='yellowgreen',)\n",
        "overall_median_tuition = df['Tuition_USD'].median()\n",
        "plt.axhline(overall_median_tuition, color='pink', linestyle='solid', linewidth=3, label=f'Median Tuition: ${overall_median_tuition:,.2f}')\n",
        "plt.title('Comparison of Tuition by Level')\n",
        "plt.xlabel('Level')\n",
        "plt.ylabel('Tuition (USD)')\n",
        "plt.legend()\n",
        "plt.show()\n"
      ],
      "metadata": {
        "colab": {
          "base_uri": "https://localhost:8080/",
          "height": 573
        },
        "id": "p1omsxcZARQ7",
        "outputId": "60d0ded5-4e35-4a8a-a972-b43d14b3e261"
      },
      "execution_count": 94,
      "outputs": [
        {
          "output_type": "display_data",
          "data": {
            "text/plain": [
              "<Figure size 1200x600 with 1 Axes>"
            ],
            "image/png": "[encoded data removed]"
          },
          "metadata": {}
        }
      ]
    },
    {
      "cell_type": "code",
      "source": [
        "# Tuition_USD vs Country\n",
        "\n",
        "def plot_avg_tuition_by_country(dataframe):\n",
        "  avg_tuition_by_country = dataframe.groupby('Country')['Tuition_USD'].mean().sort_values(ascending=False)\n",
        "\n",
        "  plt.figure(figsize=(12, 6))\n",
        "  sns.barplot(x=avg_tuition_by_country.index, y=avg_tuition_by_country.values, color='yellowgreen')\n",
        "  plt.axhline(overall_median_tuition, color='pink', linestyle='solid', linewidth=3, label=f'Median Tuition: ${overall_median_tuition:,.2f}',)\n",
        "  plt.xticks(rotation=90)\n",
        "  plt.title('Average Tuition (USD) by Country')\n",
        "  plt.xlabel('Country')\n",
        "  plt.ylabel('Average Tuition (USD)')\n",
        "  plt.tight_layout()\n",
        "  plt.legend()\n",
        "  plt.show()\n",
        "\n",
        "plot_avg_tuition_by_country(df)\n"
      ],
      "metadata": {
        "colab": {
          "base_uri": "https://localhost:8080/",
          "height": 601
        },
        "id": "4CxsLIT2W3yj",
        "outputId": "16c45528-bf1a-427e-f67b-29851cd762f8"
      },
      "execution_count": 95,
      "outputs": [
        {
          "output_type": "display_data",
          "data": {
            "text/plain": [
              "<Figure size 1200x600 with 1 Axes>"
            ],
            "image/png": "[encoded data removed]"
          },
          "metadata": {}
        }
      ]
    },
    {
      "cell_type": "markdown",
      "source": [
        "4. Analysis: Write 1-2 paragraphs discussing:\n",
        "\n",
        "* Whether your research question can be answered with the available data\n",
        "* What insights you discovered through your visualizations\n",
        "* Any unexpected or interesting findings\n",
        "* Limitations of your analysis\n",
        "* Suggestions for further investigation\n",
        "\n",
        "Please create a text cell below this cell to write your analysis."
      ],
      "metadata": {
        "id": "OdQzYjldys6g"
      }
    },
    {
      "cell_type": "markdown",
      "source": [
        "My question, how is tuition relevent to being an international student, was somewhat answered by the given data and the visualisations I made from it. With the visualizations I utilized, I found that the US was the most expensive place to study and a bachelors degree was highest costing level of education. This is not suprising as the US puts little money into subsidizing education outside of loans. In addition, getting a bachelors degree takes the most amount of time so it made sense that it was the most expensive level of education. I found it interesting that the median for tuition was below $10000 USD as that is very uncommon in the US without scholarships. While looking at the data, I noticed that most majors covered were related to STEM and Business which can have different pricepoints to other disciplines such as Art and Humanities that require a lot of supplies/readings. This could potentially impact where the median is placed. The median also could have been different than the true median because the universities selected where some of the top ranked which tend to be more expensive due to prestige. If feaseable I would recomend that the data should either stick to one major or have an average tuition cost for the institution. Another thing that could improve that data would be to get tuition costs from a wider range of universities so it is more representatve. I think it could be interesting to also look at if there are differences between the countries students are coming from and going to and looking at additional costs that could vary such as visas."
      ],
      "metadata": {
        "id": "f1jeRObFZSVd"
      }
    },
    {
      "cell_type": "markdown",
      "source": [
        "## Submission Requirements\n",
        "\n"
      ],
      "metadata": {
        "id": "A2mS9oPNy2_Y"
      }
    },
    {
      "cell_type": "markdown",
      "source": [
        "## NOTE: If you use a local dataset, you MUST submit the dataset along with your notebook to get credit."
      ],
      "metadata": {
        "id": "yIByyb4vy_Aw"
      }
    },
    {
      "cell_type": "markdown",
      "source": [
        "* Download your notebook as CS110_Project7.ipynb\n",
        "* Ensure all TODO tasks are completed\n",
        "* Make sure your code runs without errors\n",
        "* Include clear comments explaining your work\n",
        "* Submit the notebook file"
      ],
      "metadata": {
        "id": "XwJbmaQay6ca"
      }
    },
    {
      "cell_type": "markdown",
      "source": [
        "## Grading Criteria (4 points)"
      ],
      "metadata": {
        "id": "_GoDoJBWzQjK"
      }
    },
    {
      "cell_type": "markdown",
      "source": [
        "* Dataset Selection: Appropriate choice of dataset with sufficient complexity\n",
        "* Inquiry Question: Clear, specific, and answerable with the chosen data\n",
        "* Data Exploration: Proper use of pandas functions for initial analysis\n",
        "* Visualizations: At least 2 clear, well-formatted, and relevant plots\n",
        "* Analysis: Thoughtful interpretation of findings and answer to research question\n",
        "* Code Quality: Clean, commented, and well-organized code\n",
        "\n",
        "Remember: The goal is not just to create visualizations, but to use them to gain meaningful insights about your data. Think like a data scientist and let your curiosity guide your exploration!"
      ],
      "metadata": {
        "id": "MeHGEh8HzTua"
      }
    }
  ]
}